{
 "cells": [
  {
   "cell_type": "markdown",
   "metadata": {},
   "source": [
    "Importing libraries"
   ]
  },
  {
   "cell_type": "code",
   "execution_count": 7,
   "metadata": {},
   "outputs": [],
   "source": [
    "import pandas as pd \n",
    "import numpy as np\n",
    "import matplotlib.pyplot as plt\n",
    "import os\n",
    "import mne\n",
    "import shutil\n",
    "from mne.preprocessing import annotate_amplitude"
   ]
  },
  {
   "cell_type": "code",
   "execution_count": 2,
   "metadata": {},
   "outputs": [
    {
     "name": "stdout",
     "output_type": "stream",
     "text": [
      "<Info | 8 non-empty values\n",
      " bads: []\n",
      " ch_names: Fp1, Fp2, F3, F4, C3, C4, P3, P4, O1, O2, F7, F8, T3, T4, T5, ...\n",
      " chs: 19 EEG\n",
      " custom_ref_applied: False\n",
      " dig: 22 items (3 Cardinal, 19 EEG)\n",
      " highpass: 0.0 Hz\n",
      " lowpass: 250.0 Hz\n",
      " meas_date: unspecified\n",
      " nchan: 19\n",
      " projs: []\n",
      " sfreq: 500.0 Hz\n",
      ">\n"
     ]
    }
   ],
   "source": [
    "#a quick check of the raw data\n",
    "raw_data_path = \"/Users/folasewaabdulsalam/Signal_Processing/DS_Alzheimer_Project_Folasewa/preprocessed_dataset/sub-001/eeg/sub-001_task-eyesclosed_eeg.set\"\n",
    "\n",
    "raw_data = mne.io.read_raw_eeglab(raw_data_path, preload=True)\n",
    "\n",
    "print (raw_data.info)\n"
   ]
  },
  {
   "cell_type": "code",
   "execution_count": 5,
   "metadata": {},
   "outputs": [],
   "source": [
    "#taking a subset of the data 10 subjects for healthy, 10 for alzheimer\n",
    "\n",
    "source_folder = \"/Users/folasewaabdulsalam/Signal_Processing/DS_Alzheimer_Project_Folasewa/preprocessed_dataset\"\n",
    "target_folder = \"/Users/folasewaabdulsalam/Signal_Processing/DS_Alzheimer_Project_Folasewa/filtered_subjects_short\"\n",
    "\n",
    "\n",
    "subject_ids = list(range(1, 11)) + list(range(37, 47))  # 10 subjects from healthy and 10 from alzheimer\n",
    "\n",
    "# Loop through the selected subject IDs\n",
    "for subject_id in subject_ids:\n",
    "    subject_folder = f\"sub-{str(subject_id).zfill(3)}\"  # Format to sub-001, sub-002, etc.\n",
    "    source_path = os.path.join(source_folder, subject_folder, \"eeg\", f\"{subject_folder}_task-eyesclosed_eeg.set\")\n",
    "\n",
    "    \n",
    "    if os.path.exists(source_path): # this checks if the source file exists\n",
    "        shutil.copy(source_path, target_folder)  # this copies the file to the target folder\n",
    "    else:\n",
    "        print(f\"File not found: {source_path}\")\n"
   ]
  },
  {
   "cell_type": "markdown",
   "metadata": {},
   "source": [
    "Signal Analysis"
   ]
  },
  {
   "cell_type": "code",
   "execution_count": 6,
   "metadata": {},
   "outputs": [],
   "source": [
    "import glob\n",
    "subject_path = \"/Users/folasewaabdulsalam/Signal_Processing/DS_Alzheimer_Project_Folasewa/filtered_subjects_short\"\n",
    "set_files = glob.glob(f\"{subject_path}/*.set\")\n",
    "filtered_output_preprocessed = \"/Users/folasewaabdulsalam/Signal_Processing/DS_Alzheimer_Project_Folasewa/preprocessed_filtered_short\""
   ]
  },
  {
   "cell_type": "code",
   "execution_count": 18,
   "metadata": {},
   "outputs": [],
   "source": [
    "def preprocess_file(set_path, output_path, n_components=19, noise_threshold=30e-6):\n",
    "    \"\"\"\n",
    "    Preprocess an EEG file with optional noise detection, ICA, and ASR.\n",
    "\n",
    "    Parameters:\n",
    "    - set_path: Path to the input .set file.\n",
    "    - output_path: Path to save the preprocessed file.\n",
    "    - n_components: Number of components for ICA (default is 15).\n",
    "    - noise_threshold: Noise threshold in volts (default is 30 µV, converted to volts).\n",
    "    \"\"\"\n",
    "    print(f\"Processing file: {set_path}\")\n",
    "\n",
    "    # Load the .set file\n",
    "    raw_dataset = mne.io.read_raw_eeglab(set_path, preload=True)\n",
    "\n",
    "    # Re-referencing using the common average referencing\n",
    "    print(\"Applying average re-referencing...\")\n",
    "    raw_dataset.set_eeg_reference(ref_channels=\"average\")\n",
    "\n",
    "    # Apply band-pass filtering\n",
    "    print(\"Applying band-pass filter 0.5Hz to 45Hz...\")\n",
    "    raw_dataset.filter(l_freq=0.5, h_freq=45)\n",
    "\n",
    "    # Check for noise in the signal\n",
    "    print(\"Checking for noise in the data...\")\n",
    "    # Compute standard deviation for each channel\n",
    "    channel_stds = raw_dataset.get_data().std(axis=1)\n",
    "    max_std = channel_stds.max()\n",
    "\n",
    "    # If noise detected, apply ICA\n",
    "    if max_std > noise_threshold:\n",
    "        print(f\"Noise detected! Maximum channel std: {max_std:.2e} V. Applying ICA...\")\n",
    "\n",
    "        # Perform ICA to remove artifacts\n",
    "        ica = mne.preprocessing.ICA(n_components=n_components, random_state=42, max_iter=\"auto\")\n",
    "        ica.fit(raw_dataset)\n",
    "\n",
    "        # Plot ICA components for manual inspection (optional)\n",
    "        ica.plot_components()\n",
    "\n",
    "        # Automatically exclude artifacts (if desired, or manually exclude specific components)\n",
    "        ica.exclude = []  # You can update this based on manual inspection\n",
    "        raw_dataset = ica.apply(raw_dataset)\n",
    "\n",
    "    else:\n",
    "        print(f\"No significant noise detected (max std: {max_std:.2e} V). Skipping ICA.\")\n",
    "\n",
    "    # Apply ASR for automatic artifact rejection\n",
    "    print(\"Applying Artifact Subspace Reconstruction (ASR)...\")\n",
    "\n",
    "    # Annotate bad segments based on the amplitude threshold\n",
    "    annotations, _ = annotate_amplitude(\n",
    "        raw_dataset,\n",
    "        peak=17e-6,  # ASR threshold: 17 µV converted to volts\n",
    "        min_duration=0.5,  # Minimum artifact duration (0.5 seconds)\n",
    "    )\n",
    "\n",
    "    # Apply annotations\n",
    "    raw_dataset.set_annotations(annotations)\n",
    "\n",
    "    # Exclude bad segments manually\n",
    "    print(\"Excluding bad segments...\")\n",
    "    good_data = raw_dataset.get_data()\n",
    "    for annotation in raw_dataset.annotations:\n",
    "        onset_sample = int(annotation['onset'] * raw_dataset.info['sfreq'])\n",
    "        duration_sample = int(annotation['duration'] * raw_dataset.info['sfreq'])\n",
    "        good_data[:, onset_sample:onset_sample + duration_sample] = np.nan  # Mark bad segments as NaN\n",
    "\n",
    "    # Interpolate or omit bad segments (optional)\n",
    "    raw_dataset_clean = raw_dataset.copy()\n",
    "    raw_dataset_clean._data = np.nan_to_num(good_data, nan=0.0)  # Replace NaNs with zeros (or interpolate)\n",
    "\n",
    "    # Save the preprocessed file\n",
    "    output_file = os.path.join(output_path, os.path.basename(set_path).replace(\".set\", \"_preprocessed.fif\"))\n",
    "    print(f\"Saving the preprocessed file to: {output_file}\")\n",
    "    raw_dataset_clean.save(output_file, overwrite=True)\n"
   ]
  },
  {
   "cell_type": "code",
   "execution_count": 19,
   "metadata": {},
   "outputs": [
    {
     "name": "stdout",
     "output_type": "stream",
     "text": [
      "Processing file: /Users/folasewaabdulsalam/Signal_Processing/DS_Alzheimer_Project_Folasewa/filtered_subjects_short/sub-040_task-eyesclosed_eeg.set\n",
      "Applying average re-referencing...\n",
      "EEG channel type selected for re-referencing\n",
      "Applying average reference.\n",
      "Applying a custom ('EEG',) reference.\n",
      "Applying band-pass filter 0.5Hz to 45Hz...\n",
      "Filtering raw data in 1 contiguous segment\n",
      "Setting up band-pass filter from 0.5 - 45 Hz\n",
      "\n",
      "FIR filter parameters\n",
      "---------------------\n",
      "Designing a one-pass, zero-phase, non-causal bandpass filter:\n",
      "- Windowed time-domain design (firwin) method\n",
      "- Hamming window with 0.0194 passband ripple and 53 dB stopband attenuation\n",
      "- Lower passband edge: 0.50\n",
      "- Lower transition bandwidth: 0.50 Hz (-6 dB cutoff frequency: 0.25 Hz)\n",
      "- Upper passband edge: 45.00 Hz\n",
      "- Upper transition bandwidth: 11.25 Hz (-6 dB cutoff frequency: 50.62 Hz)\n",
      "- Filter length: 3301 samples (6.602 s)\n",
      "\n"
     ]
    },
    {
     "name": "stderr",
     "output_type": "stream",
     "text": [
      "/var/folders/2r/22chk4fn06j2bd_2pbrv5vcm0000gn/T/ipykernel_46055/1850524937.py:14: RuntimeWarning: The data contains 'boundary' events, indicating data discontinuities. Be cautious of filtering and epoching around these events.\n",
      "  raw_dataset = mne.io.read_raw_eeglab(set_path, preload=True)\n"
     ]
    },
    {
     "name": "stdout",
     "output_type": "stream",
     "text": [
      "Checking for noise in the data...\n",
      "No significant noise detected (max std: 2.18e-05 V). Skipping ICA.\n",
      "Applying Artifact Subspace Reconstruction (ASR)...\n",
      "Finding segments below or above PTP threshold.\n"
     ]
    },
    {
     "name": "stderr",
     "output_type": "stream",
     "text": [
      "[Parallel(n_jobs=1)]: Done  17 tasks      | elapsed:    0.2s\n"
     ]
    },
    {
     "name": "stdout",
     "output_type": "stream",
     "text": [
      "Excluding bad segments...\n",
      "Saving the preprocessed file to: /Users/folasewaabdulsalam/Signal_Processing/DS_Alzheimer_Project_Folasewa/preprocessed_filtered_short/sub-040_task-eyesclosed_eeg_preprocessed.fif\n",
      "Writing /Users/folasewaabdulsalam/Signal_Processing/DS_Alzheimer_Project_Folasewa/preprocessed_filtered_short/sub-040_task-eyesclosed_eeg_preprocessed.fif\n"
     ]
    },
    {
     "name": "stderr",
     "output_type": "stream",
     "text": [
      "/var/folders/2r/22chk4fn06j2bd_2pbrv5vcm0000gn/T/ipykernel_46055/1850524937.py:76: RuntimeWarning: This filename (/Users/folasewaabdulsalam/Signal_Processing/DS_Alzheimer_Project_Folasewa/preprocessed_filtered_short/sub-040_task-eyesclosed_eeg_preprocessed.fif) does not conform to MNE naming conventions. All raw files should end with raw.fif, raw_sss.fif, raw_tsss.fif, _meg.fif, _eeg.fif, _ieeg.fif, raw.fif.gz, raw_sss.fif.gz, raw_tsss.fif.gz, _meg.fif.gz, _eeg.fif.gz or _ieeg.fif.gz\n",
      "  raw_dataset_clean.save(output_file, overwrite=True)\n"
     ]
    },
    {
     "name": "stdout",
     "output_type": "stream",
     "text": [
      "Closing /Users/folasewaabdulsalam/Signal_Processing/DS_Alzheimer_Project_Folasewa/preprocessed_filtered_short/sub-040_task-eyesclosed_eeg_preprocessed.fif\n",
      "[done]\n",
      "Processing file: /Users/folasewaabdulsalam/Signal_Processing/DS_Alzheimer_Project_Folasewa/filtered_subjects_short/sub-044_task-eyesclosed_eeg.set\n",
      "Applying average re-referencing...\n",
      "EEG channel type selected for re-referencing\n",
      "Applying average reference.\n",
      "Applying a custom ('EEG',) reference.\n",
      "Applying band-pass filter 0.5Hz to 45Hz...\n",
      "Filtering raw data in 1 contiguous segment\n",
      "Setting up band-pass filter from 0.5 - 45 Hz\n",
      "\n",
      "FIR filter parameters\n",
      "---------------------\n",
      "Designing a one-pass, zero-phase, non-causal bandpass filter:\n",
      "- Windowed time-domain design (firwin) method\n",
      "- Hamming window with 0.0194 passband ripple and 53 dB stopband attenuation\n",
      "- Lower passband edge: 0.50\n",
      "- Lower transition bandwidth: 0.50 Hz (-6 dB cutoff frequency: 0.25 Hz)\n",
      "- Upper passband edge: 45.00 Hz\n",
      "- Upper transition bandwidth: 11.25 Hz (-6 dB cutoff frequency: 50.62 Hz)\n",
      "- Filter length: 3301 samples (6.602 s)\n",
      "\n",
      "Checking for noise in the data...\n",
      "No significant noise detected (max std: 1.21e-05 V). Skipping ICA.\n",
      "Applying Artifact Subspace Reconstruction (ASR)...\n",
      "Finding segments below or above PTP threshold.\n",
      "Excluding bad segments...\n",
      "Saving the preprocessed file to: /Users/folasewaabdulsalam/Signal_Processing/DS_Alzheimer_Project_Folasewa/preprocessed_filtered_short/sub-044_task-eyesclosed_eeg_preprocessed.fif\n",
      "Writing /Users/folasewaabdulsalam/Signal_Processing/DS_Alzheimer_Project_Folasewa/preprocessed_filtered_short/sub-044_task-eyesclosed_eeg_preprocessed.fif\n"
     ]
    },
    {
     "name": "stderr",
     "output_type": "stream",
     "text": [
      "[Parallel(n_jobs=1)]: Done  17 tasks      | elapsed:    0.1s\n",
      "/var/folders/2r/22chk4fn06j2bd_2pbrv5vcm0000gn/T/ipykernel_46055/1850524937.py:76: RuntimeWarning: This filename (/Users/folasewaabdulsalam/Signal_Processing/DS_Alzheimer_Project_Folasewa/preprocessed_filtered_short/sub-044_task-eyesclosed_eeg_preprocessed.fif) does not conform to MNE naming conventions. All raw files should end with raw.fif, raw_sss.fif, raw_tsss.fif, _meg.fif, _eeg.fif, _ieeg.fif, raw.fif.gz, raw_sss.fif.gz, raw_tsss.fif.gz, _meg.fif.gz, _eeg.fif.gz or _ieeg.fif.gz\n",
      "  raw_dataset_clean.save(output_file, overwrite=True)\n"
     ]
    },
    {
     "name": "stdout",
     "output_type": "stream",
     "text": [
      "Closing /Users/folasewaabdulsalam/Signal_Processing/DS_Alzheimer_Project_Folasewa/preprocessed_filtered_short/sub-044_task-eyesclosed_eeg_preprocessed.fif\n",
      "[done]\n",
      "Processing file: /Users/folasewaabdulsalam/Signal_Processing/DS_Alzheimer_Project_Folasewa/filtered_subjects_short/sub-004_task-eyesclosed_eeg.set\n",
      "Applying average re-referencing...\n",
      "EEG channel type selected for re-referencing\n",
      "Applying average reference.\n",
      "Applying a custom ('EEG',) reference.\n",
      "Applying band-pass filter 0.5Hz to 45Hz...\n",
      "Filtering raw data in 1 contiguous segment\n",
      "Setting up band-pass filter from 0.5 - 45 Hz\n",
      "\n",
      "FIR filter parameters\n",
      "---------------------\n",
      "Designing a one-pass, zero-phase, non-causal bandpass filter:\n",
      "- Windowed time-domain design (firwin) method\n",
      "- Hamming window with 0.0194 passband ripple and 53 dB stopband attenuation\n",
      "- Lower passband edge: 0.50\n",
      "- Lower transition bandwidth: 0.50 Hz (-6 dB cutoff frequency: 0.25 Hz)\n",
      "- Upper passband edge: 45.00 Hz\n",
      "- Upper transition bandwidth: 11.25 Hz (-6 dB cutoff frequency: 50.62 Hz)\n",
      "- Filter length: 3301 samples (6.602 s)\n",
      "\n"
     ]
    },
    {
     "name": "stderr",
     "output_type": "stream",
     "text": [
      "/var/folders/2r/22chk4fn06j2bd_2pbrv5vcm0000gn/T/ipykernel_46055/1850524937.py:14: RuntimeWarning: The data contains 'boundary' events, indicating data discontinuities. Be cautious of filtering and epoching around these events.\n",
      "  raw_dataset = mne.io.read_raw_eeglab(set_path, preload=True)\n",
      "[Parallel(n_jobs=1)]: Done  17 tasks      | elapsed:    0.1s\n"
     ]
    },
    {
     "name": "stdout",
     "output_type": "stream",
     "text": [
      "Checking for noise in the data...\n",
      "No significant noise detected (max std: 1.14e-05 V). Skipping ICA.\n",
      "Applying Artifact Subspace Reconstruction (ASR)...\n",
      "Finding segments below or above PTP threshold.\n",
      "Excluding bad segments...\n",
      "Saving the preprocessed file to: /Users/folasewaabdulsalam/Signal_Processing/DS_Alzheimer_Project_Folasewa/preprocessed_filtered_short/sub-004_task-eyesclosed_eeg_preprocessed.fif\n",
      "Writing /Users/folasewaabdulsalam/Signal_Processing/DS_Alzheimer_Project_Folasewa/preprocessed_filtered_short/sub-004_task-eyesclosed_eeg_preprocessed.fif\n",
      "Closing /Users/folasewaabdulsalam/Signal_Processing/DS_Alzheimer_Project_Folasewa/preprocessed_filtered_short/sub-004_task-eyesclosed_eeg_preprocessed.fif\n",
      "[done]\n",
      "Processing file: /Users/folasewaabdulsalam/Signal_Processing/DS_Alzheimer_Project_Folasewa/filtered_subjects_short/sub-008_task-eyesclosed_eeg.set\n",
      "Applying average re-referencing...\n",
      "EEG channel type selected for re-referencing\n",
      "Applying average reference.\n",
      "Applying a custom ('EEG',) reference.\n"
     ]
    },
    {
     "name": "stderr",
     "output_type": "stream",
     "text": [
      "/var/folders/2r/22chk4fn06j2bd_2pbrv5vcm0000gn/T/ipykernel_46055/1850524937.py:76: RuntimeWarning: This filename (/Users/folasewaabdulsalam/Signal_Processing/DS_Alzheimer_Project_Folasewa/preprocessed_filtered_short/sub-004_task-eyesclosed_eeg_preprocessed.fif) does not conform to MNE naming conventions. All raw files should end with raw.fif, raw_sss.fif, raw_tsss.fif, _meg.fif, _eeg.fif, _ieeg.fif, raw.fif.gz, raw_sss.fif.gz, raw_tsss.fif.gz, _meg.fif.gz, _eeg.fif.gz or _ieeg.fif.gz\n",
      "  raw_dataset_clean.save(output_file, overwrite=True)\n",
      "/var/folders/2r/22chk4fn06j2bd_2pbrv5vcm0000gn/T/ipykernel_46055/1850524937.py:14: RuntimeWarning: The data contains 'boundary' events, indicating data discontinuities. Be cautious of filtering and epoching around these events.\n",
      "  raw_dataset = mne.io.read_raw_eeglab(set_path, preload=True)\n"
     ]
    },
    {
     "name": "stdout",
     "output_type": "stream",
     "text": [
      "Applying band-pass filter 0.5Hz to 45Hz...\n",
      "Filtering raw data in 1 contiguous segment\n",
      "Setting up band-pass filter from 0.5 - 45 Hz\n",
      "\n",
      "FIR filter parameters\n",
      "---------------------\n",
      "Designing a one-pass, zero-phase, non-causal bandpass filter:\n",
      "- Windowed time-domain design (firwin) method\n",
      "- Hamming window with 0.0194 passband ripple and 53 dB stopband attenuation\n",
      "- Lower passband edge: 0.50\n",
      "- Lower transition bandwidth: 0.50 Hz (-6 dB cutoff frequency: 0.25 Hz)\n",
      "- Upper passband edge: 45.00 Hz\n",
      "- Upper transition bandwidth: 11.25 Hz (-6 dB cutoff frequency: 50.62 Hz)\n",
      "- Filter length: 3301 samples (6.602 s)\n",
      "\n",
      "Checking for noise in the data...\n",
      "No significant noise detected (max std: 1.74e-05 V). Skipping ICA.\n",
      "Applying Artifact Subspace Reconstruction (ASR)...\n",
      "Finding segments below or above PTP threshold.\n",
      "Excluding bad segments...\n",
      "Saving the preprocessed file to: /Users/folasewaabdulsalam/Signal_Processing/DS_Alzheimer_Project_Folasewa/preprocessed_filtered_short/sub-008_task-eyesclosed_eeg_preprocessed.fif\n",
      "Writing /Users/folasewaabdulsalam/Signal_Processing/DS_Alzheimer_Project_Folasewa/preprocessed_filtered_short/sub-008_task-eyesclosed_eeg_preprocessed.fif\n"
     ]
    },
    {
     "name": "stderr",
     "output_type": "stream",
     "text": [
      "[Parallel(n_jobs=1)]: Done  17 tasks      | elapsed:    0.2s\n",
      "/var/folders/2r/22chk4fn06j2bd_2pbrv5vcm0000gn/T/ipykernel_46055/1850524937.py:76: RuntimeWarning: This filename (/Users/folasewaabdulsalam/Signal_Processing/DS_Alzheimer_Project_Folasewa/preprocessed_filtered_short/sub-008_task-eyesclosed_eeg_preprocessed.fif) does not conform to MNE naming conventions. All raw files should end with raw.fif, raw_sss.fif, raw_tsss.fif, _meg.fif, _eeg.fif, _ieeg.fif, raw.fif.gz, raw_sss.fif.gz, raw_tsss.fif.gz, _meg.fif.gz, _eeg.fif.gz or _ieeg.fif.gz\n",
      "  raw_dataset_clean.save(output_file, overwrite=True)\n"
     ]
    },
    {
     "name": "stdout",
     "output_type": "stream",
     "text": [
      "Closing /Users/folasewaabdulsalam/Signal_Processing/DS_Alzheimer_Project_Folasewa/preprocessed_filtered_short/sub-008_task-eyesclosed_eeg_preprocessed.fif\n",
      "[done]\n",
      "Processing file: /Users/folasewaabdulsalam/Signal_Processing/DS_Alzheimer_Project_Folasewa/filtered_subjects_short/sub-039_task-eyesclosed_eeg.set\n",
      "Applying average re-referencing...\n",
      "EEG channel type selected for re-referencing\n",
      "Applying average reference.\n",
      "Applying a custom ('EEG',) reference.\n",
      "Applying band-pass filter 0.5Hz to 45Hz...\n",
      "Filtering raw data in 1 contiguous segment\n",
      "Setting up band-pass filter from 0.5 - 45 Hz\n",
      "\n",
      "FIR filter parameters\n",
      "---------------------\n",
      "Designing a one-pass, zero-phase, non-causal bandpass filter:\n",
      "- Windowed time-domain design (firwin) method\n",
      "- Hamming window with 0.0194 passband ripple and 53 dB stopband attenuation\n",
      "- Lower passband edge: 0.50\n",
      "- Lower transition bandwidth: 0.50 Hz (-6 dB cutoff frequency: 0.25 Hz)\n",
      "- Upper passband edge: 45.00 Hz\n",
      "- Upper transition bandwidth: 11.25 Hz (-6 dB cutoff frequency: 50.62 Hz)\n",
      "- Filter length: 3301 samples (6.602 s)\n",
      "\n"
     ]
    },
    {
     "name": "stderr",
     "output_type": "stream",
     "text": [
      "/var/folders/2r/22chk4fn06j2bd_2pbrv5vcm0000gn/T/ipykernel_46055/1850524937.py:14: RuntimeWarning: The data contains 'boundary' events, indicating data discontinuities. Be cautious of filtering and epoching around these events.\n",
      "  raw_dataset = mne.io.read_raw_eeglab(set_path, preload=True)\n"
     ]
    },
    {
     "name": "stdout",
     "output_type": "stream",
     "text": [
      "Checking for noise in the data...\n",
      "No significant noise detected (max std: 1.26e-05 V). Skipping ICA.\n",
      "Applying Artifact Subspace Reconstruction (ASR)...\n",
      "Finding segments below or above PTP threshold.\n",
      "Excluding bad segments...\n",
      "Saving the preprocessed file to: /Users/folasewaabdulsalam/Signal_Processing/DS_Alzheimer_Project_Folasewa/preprocessed_filtered_short/sub-039_task-eyesclosed_eeg_preprocessed.fif\n",
      "Writing /Users/folasewaabdulsalam/Signal_Processing/DS_Alzheimer_Project_Folasewa/preprocessed_filtered_short/sub-039_task-eyesclosed_eeg_preprocessed.fif\n"
     ]
    },
    {
     "name": "stderr",
     "output_type": "stream",
     "text": [
      "[Parallel(n_jobs=1)]: Done  17 tasks      | elapsed:    0.2s\n",
      "/var/folders/2r/22chk4fn06j2bd_2pbrv5vcm0000gn/T/ipykernel_46055/1850524937.py:76: RuntimeWarning: This filename (/Users/folasewaabdulsalam/Signal_Processing/DS_Alzheimer_Project_Folasewa/preprocessed_filtered_short/sub-039_task-eyesclosed_eeg_preprocessed.fif) does not conform to MNE naming conventions. All raw files should end with raw.fif, raw_sss.fif, raw_tsss.fif, _meg.fif, _eeg.fif, _ieeg.fif, raw.fif.gz, raw_sss.fif.gz, raw_tsss.fif.gz, _meg.fif.gz, _eeg.fif.gz or _ieeg.fif.gz\n",
      "  raw_dataset_clean.save(output_file, overwrite=True)\n"
     ]
    },
    {
     "name": "stdout",
     "output_type": "stream",
     "text": [
      "Closing /Users/folasewaabdulsalam/Signal_Processing/DS_Alzheimer_Project_Folasewa/preprocessed_filtered_short/sub-039_task-eyesclosed_eeg_preprocessed.fif\n",
      "[done]\n",
      "Processing file: /Users/folasewaabdulsalam/Signal_Processing/DS_Alzheimer_Project_Folasewa/filtered_subjects_short/sub-007_task-eyesclosed_eeg.set\n",
      "Applying average re-referencing...\n",
      "EEG channel type selected for re-referencing\n",
      "Applying average reference.\n",
      "Applying a custom ('EEG',) reference.\n",
      "Applying band-pass filter 0.5Hz to 45Hz...\n",
      "Filtering raw data in 1 contiguous segment\n",
      "Setting up band-pass filter from 0.5 - 45 Hz\n",
      "\n",
      "FIR filter parameters\n",
      "---------------------\n",
      "Designing a one-pass, zero-phase, non-causal bandpass filter:\n",
      "- Windowed time-domain design (firwin) method\n",
      "- Hamming window with 0.0194 passband ripple and 53 dB stopband attenuation\n",
      "- Lower passband edge: 0.50\n",
      "- Lower transition bandwidth: 0.50 Hz (-6 dB cutoff frequency: 0.25 Hz)\n",
      "- Upper passband edge: 45.00 Hz\n",
      "- Upper transition bandwidth: 11.25 Hz (-6 dB cutoff frequency: 50.62 Hz)\n",
      "- Filter length: 3301 samples (6.602 s)\n",
      "\n"
     ]
    },
    {
     "name": "stderr",
     "output_type": "stream",
     "text": [
      "/var/folders/2r/22chk4fn06j2bd_2pbrv5vcm0000gn/T/ipykernel_46055/1850524937.py:14: RuntimeWarning: The data contains 'boundary' events, indicating data discontinuities. Be cautious of filtering and epoching around these events.\n",
      "  raw_dataset = mne.io.read_raw_eeglab(set_path, preload=True)\n"
     ]
    },
    {
     "name": "stdout",
     "output_type": "stream",
     "text": [
      "Checking for noise in the data...\n",
      "No significant noise detected (max std: 8.07e-06 V). Skipping ICA.\n",
      "Applying Artifact Subspace Reconstruction (ASR)...\n",
      "Finding segments below or above PTP threshold.\n",
      "Excluding bad segments...\n",
      "Saving the preprocessed file to: /Users/folasewaabdulsalam/Signal_Processing/DS_Alzheimer_Project_Folasewa/preprocessed_filtered_short/sub-007_task-eyesclosed_eeg_preprocessed.fif\n",
      "Writing /Users/folasewaabdulsalam/Signal_Processing/DS_Alzheimer_Project_Folasewa/preprocessed_filtered_short/sub-007_task-eyesclosed_eeg_preprocessed.fif\n"
     ]
    },
    {
     "name": "stderr",
     "output_type": "stream",
     "text": [
      "[Parallel(n_jobs=1)]: Done  17 tasks      | elapsed:    0.2s\n",
      "/var/folders/2r/22chk4fn06j2bd_2pbrv5vcm0000gn/T/ipykernel_46055/1850524937.py:76: RuntimeWarning: This filename (/Users/folasewaabdulsalam/Signal_Processing/DS_Alzheimer_Project_Folasewa/preprocessed_filtered_short/sub-007_task-eyesclosed_eeg_preprocessed.fif) does not conform to MNE naming conventions. All raw files should end with raw.fif, raw_sss.fif, raw_tsss.fif, _meg.fif, _eeg.fif, _ieeg.fif, raw.fif.gz, raw_sss.fif.gz, raw_tsss.fif.gz, _meg.fif.gz, _eeg.fif.gz or _ieeg.fif.gz\n",
      "  raw_dataset_clean.save(output_file, overwrite=True)\n"
     ]
    },
    {
     "name": "stdout",
     "output_type": "stream",
     "text": [
      "Closing /Users/folasewaabdulsalam/Signal_Processing/DS_Alzheimer_Project_Folasewa/preprocessed_filtered_short/sub-007_task-eyesclosed_eeg_preprocessed.fif\n",
      "[done]\n",
      "Processing file: /Users/folasewaabdulsalam/Signal_Processing/DS_Alzheimer_Project_Folasewa/filtered_subjects_short/sub-003_task-eyesclosed_eeg.set\n",
      "Applying average re-referencing...\n",
      "EEG channel type selected for re-referencing\n",
      "Applying average reference.\n",
      "Applying a custom ('EEG',) reference.\n",
      "Applying band-pass filter 0.5Hz to 45Hz...\n",
      "Filtering raw data in 1 contiguous segment\n",
      "Setting up band-pass filter from 0.5 - 45 Hz\n",
      "\n",
      "FIR filter parameters\n",
      "---------------------\n",
      "Designing a one-pass, zero-phase, non-causal bandpass filter:\n",
      "- Windowed time-domain design (firwin) method\n",
      "- Hamming window with 0.0194 passband ripple and 53 dB stopband attenuation\n",
      "- Lower passband edge: 0.50\n",
      "- Lower transition bandwidth: 0.50 Hz (-6 dB cutoff frequency: 0.25 Hz)\n",
      "- Upper passband edge: 45.00 Hz\n",
      "- Upper transition bandwidth: 11.25 Hz (-6 dB cutoff frequency: 50.62 Hz)\n",
      "- Filter length: 3301 samples (6.602 s)\n",
      "\n",
      "Checking for noise in the data...\n",
      "No significant noise detected (max std: 1.11e-05 V). Skipping ICA.\n",
      "Applying Artifact Subspace Reconstruction (ASR)...\n",
      "Finding segments below or above PTP threshold.\n"
     ]
    },
    {
     "name": "stderr",
     "output_type": "stream",
     "text": [
      "/var/folders/2r/22chk4fn06j2bd_2pbrv5vcm0000gn/T/ipykernel_46055/1850524937.py:14: RuntimeWarning: The data contains 'boundary' events, indicating data discontinuities. Be cautious of filtering and epoching around these events.\n",
      "  raw_dataset = mne.io.read_raw_eeglab(set_path, preload=True)\n",
      "[Parallel(n_jobs=1)]: Done  17 tasks      | elapsed:    0.1s\n",
      "/var/folders/2r/22chk4fn06j2bd_2pbrv5vcm0000gn/T/ipykernel_46055/1850524937.py:76: RuntimeWarning: This filename (/Users/folasewaabdulsalam/Signal_Processing/DS_Alzheimer_Project_Folasewa/preprocessed_filtered_short/sub-003_task-eyesclosed_eeg_preprocessed.fif) does not conform to MNE naming conventions. All raw files should end with raw.fif, raw_sss.fif, raw_tsss.fif, _meg.fif, _eeg.fif, _ieeg.fif, raw.fif.gz, raw_sss.fif.gz, raw_tsss.fif.gz, _meg.fif.gz, _eeg.fif.gz or _ieeg.fif.gz\n",
      "  raw_dataset_clean.save(output_file, overwrite=True)\n"
     ]
    },
    {
     "name": "stdout",
     "output_type": "stream",
     "text": [
      "Excluding bad segments...\n",
      "Saving the preprocessed file to: /Users/folasewaabdulsalam/Signal_Processing/DS_Alzheimer_Project_Folasewa/preprocessed_filtered_short/sub-003_task-eyesclosed_eeg_preprocessed.fif\n",
      "Writing /Users/folasewaabdulsalam/Signal_Processing/DS_Alzheimer_Project_Folasewa/preprocessed_filtered_short/sub-003_task-eyesclosed_eeg_preprocessed.fif\n",
      "Closing /Users/folasewaabdulsalam/Signal_Processing/DS_Alzheimer_Project_Folasewa/preprocessed_filtered_short/sub-003_task-eyesclosed_eeg_preprocessed.fif\n",
      "[done]\n",
      "Processing file: /Users/folasewaabdulsalam/Signal_Processing/DS_Alzheimer_Project_Folasewa/filtered_subjects_short/sub-043_task-eyesclosed_eeg.set\n",
      "Applying average re-referencing...\n",
      "EEG channel type selected for re-referencing\n",
      "Applying average reference.\n",
      "Applying a custom ('EEG',) reference.\n",
      "Applying band-pass filter 0.5Hz to 45Hz...\n",
      "Filtering raw data in 1 contiguous segment\n",
      "Setting up band-pass filter from 0.5 - 45 Hz\n",
      "\n",
      "FIR filter parameters\n",
      "---------------------\n",
      "Designing a one-pass, zero-phase, non-causal bandpass filter:\n",
      "- Windowed time-domain design (firwin) method\n",
      "- Hamming window with 0.0194 passband ripple and 53 dB stopband attenuation\n",
      "- Lower passband edge: 0.50\n",
      "- Lower transition bandwidth: 0.50 Hz (-6 dB cutoff frequency: 0.25 Hz)\n",
      "- Upper passband edge: 45.00 Hz\n",
      "- Upper transition bandwidth: 11.25 Hz (-6 dB cutoff frequency: 50.62 Hz)\n",
      "- Filter length: 3301 samples (6.602 s)\n",
      "\n",
      "Checking for noise in the data...\n",
      "No significant noise detected (max std: 1.11e-05 V). Skipping ICA.\n",
      "Applying Artifact Subspace Reconstruction (ASR)...\n",
      "Finding segments below or above PTP threshold.\n",
      "Excluding bad segments...\n",
      "Saving the preprocessed file to: /Users/folasewaabdulsalam/Signal_Processing/DS_Alzheimer_Project_Folasewa/preprocessed_filtered_short/sub-043_task-eyesclosed_eeg_preprocessed.fif\n",
      "Writing /Users/folasewaabdulsalam/Signal_Processing/DS_Alzheimer_Project_Folasewa/preprocessed_filtered_short/sub-043_task-eyesclosed_eeg_preprocessed.fif\n"
     ]
    },
    {
     "name": "stderr",
     "output_type": "stream",
     "text": [
      "[Parallel(n_jobs=1)]: Done  17 tasks      | elapsed:    0.2s\n",
      "/var/folders/2r/22chk4fn06j2bd_2pbrv5vcm0000gn/T/ipykernel_46055/1850524937.py:76: RuntimeWarning: This filename (/Users/folasewaabdulsalam/Signal_Processing/DS_Alzheimer_Project_Folasewa/preprocessed_filtered_short/sub-043_task-eyesclosed_eeg_preprocessed.fif) does not conform to MNE naming conventions. All raw files should end with raw.fif, raw_sss.fif, raw_tsss.fif, _meg.fif, _eeg.fif, _ieeg.fif, raw.fif.gz, raw_sss.fif.gz, raw_tsss.fif.gz, _meg.fif.gz, _eeg.fif.gz or _ieeg.fif.gz\n",
      "  raw_dataset_clean.save(output_file, overwrite=True)\n"
     ]
    },
    {
     "name": "stdout",
     "output_type": "stream",
     "text": [
      "Closing /Users/folasewaabdulsalam/Signal_Processing/DS_Alzheimer_Project_Folasewa/preprocessed_filtered_short/sub-043_task-eyesclosed_eeg_preprocessed.fif\n",
      "[done]\n",
      "Processing file: /Users/folasewaabdulsalam/Signal_Processing/DS_Alzheimer_Project_Folasewa/filtered_subjects_short/sub-010_task-eyesclosed_eeg.set\n",
      "Applying average re-referencing...\n",
      "EEG channel type selected for re-referencing\n",
      "Applying average reference.\n",
      "Applying a custom ('EEG',) reference.\n",
      "Applying band-pass filter 0.5Hz to 45Hz...\n",
      "Filtering raw data in 1 contiguous segment\n",
      "Setting up band-pass filter from 0.5 - 45 Hz\n",
      "\n",
      "FIR filter parameters\n",
      "---------------------\n",
      "Designing a one-pass, zero-phase, non-causal bandpass filter:\n",
      "- Windowed time-domain design (firwin) method\n",
      "- Hamming window with 0.0194 passband ripple and 53 dB stopband attenuation\n",
      "- Lower passband edge: 0.50\n",
      "- Lower transition bandwidth: 0.50 Hz (-6 dB cutoff frequency: 0.25 Hz)\n",
      "- Upper passband edge: 45.00 Hz\n",
      "- Upper transition bandwidth: 11.25 Hz (-6 dB cutoff frequency: 50.62 Hz)\n",
      "- Filter length: 3301 samples (6.602 s)\n",
      "\n"
     ]
    },
    {
     "name": "stderr",
     "output_type": "stream",
     "text": [
      "/var/folders/2r/22chk4fn06j2bd_2pbrv5vcm0000gn/T/ipykernel_46055/1850524937.py:14: RuntimeWarning: The data contains 'boundary' events, indicating data discontinuities. Be cautious of filtering and epoching around these events.\n",
      "  raw_dataset = mne.io.read_raw_eeglab(set_path, preload=True)\n"
     ]
    },
    {
     "name": "stdout",
     "output_type": "stream",
     "text": [
      "Checking for noise in the data...\n",
      "No significant noise detected (max std: 5.49e-06 V). Skipping ICA.\n",
      "Applying Artifact Subspace Reconstruction (ASR)...\n",
      "Finding segments below or above PTP threshold.\n"
     ]
    },
    {
     "name": "stderr",
     "output_type": "stream",
     "text": [
      "[Parallel(n_jobs=1)]: Done  17 tasks      | elapsed:    0.3s\n"
     ]
    },
    {
     "name": "stdout",
     "output_type": "stream",
     "text": [
      "Excluding bad segments...\n",
      "Saving the preprocessed file to: /Users/folasewaabdulsalam/Signal_Processing/DS_Alzheimer_Project_Folasewa/preprocessed_filtered_short/sub-010_task-eyesclosed_eeg_preprocessed.fif\n",
      "Writing /Users/folasewaabdulsalam/Signal_Processing/DS_Alzheimer_Project_Folasewa/preprocessed_filtered_short/sub-010_task-eyesclosed_eeg_preprocessed.fif\n",
      "Closing /Users/folasewaabdulsalam/Signal_Processing/DS_Alzheimer_Project_Folasewa/preprocessed_filtered_short/sub-010_task-eyesclosed_eeg_preprocessed.fif\n",
      "[done]\n",
      "Processing file: /Users/folasewaabdulsalam/Signal_Processing/DS_Alzheimer_Project_Folasewa/filtered_subjects_short/sub-005_task-eyesclosed_eeg.set\n"
     ]
    },
    {
     "name": "stderr",
     "output_type": "stream",
     "text": [
      "/var/folders/2r/22chk4fn06j2bd_2pbrv5vcm0000gn/T/ipykernel_46055/1850524937.py:76: RuntimeWarning: This filename (/Users/folasewaabdulsalam/Signal_Processing/DS_Alzheimer_Project_Folasewa/preprocessed_filtered_short/sub-010_task-eyesclosed_eeg_preprocessed.fif) does not conform to MNE naming conventions. All raw files should end with raw.fif, raw_sss.fif, raw_tsss.fif, _meg.fif, _eeg.fif, _ieeg.fif, raw.fif.gz, raw_sss.fif.gz, raw_tsss.fif.gz, _meg.fif.gz, _eeg.fif.gz or _ieeg.fif.gz\n",
      "  raw_dataset_clean.save(output_file, overwrite=True)\n"
     ]
    },
    {
     "name": "stdout",
     "output_type": "stream",
     "text": [
      "Applying average re-referencing...\n",
      "EEG channel type selected for re-referencing\n",
      "Applying average reference.\n",
      "Applying a custom ('EEG',) reference.\n",
      "Applying band-pass filter 0.5Hz to 45Hz...\n",
      "Filtering raw data in 1 contiguous segment\n",
      "Setting up band-pass filter from 0.5 - 45 Hz\n",
      "\n",
      "FIR filter parameters\n",
      "---------------------\n",
      "Designing a one-pass, zero-phase, non-causal bandpass filter:\n",
      "- Windowed time-domain design (firwin) method\n",
      "- Hamming window with 0.0194 passband ripple and 53 dB stopband attenuation\n",
      "- Lower passband edge: 0.50\n",
      "- Lower transition bandwidth: 0.50 Hz (-6 dB cutoff frequency: 0.25 Hz)\n",
      "- Upper passband edge: 45.00 Hz\n",
      "- Upper transition bandwidth: 11.25 Hz (-6 dB cutoff frequency: 50.62 Hz)\n",
      "- Filter length: 3301 samples (6.602 s)\n",
      "\n",
      "Checking for noise in the data...\n",
      "No significant noise detected (max std: 1.09e-05 V). Skipping ICA.\n",
      "Applying Artifact Subspace Reconstruction (ASR)...\n",
      "Finding segments below or above PTP threshold.\n",
      "Excluding bad segments...\n",
      "Saving the preprocessed file to: /Users/folasewaabdulsalam/Signal_Processing/DS_Alzheimer_Project_Folasewa/preprocessed_filtered_short/sub-005_task-eyesclosed_eeg_preprocessed.fif\n",
      "Writing /Users/folasewaabdulsalam/Signal_Processing/DS_Alzheimer_Project_Folasewa/preprocessed_filtered_short/sub-005_task-eyesclosed_eeg_preprocessed.fif\n"
     ]
    },
    {
     "name": "stderr",
     "output_type": "stream",
     "text": [
      "[Parallel(n_jobs=1)]: Done  17 tasks      | elapsed:    0.1s\n",
      "/var/folders/2r/22chk4fn06j2bd_2pbrv5vcm0000gn/T/ipykernel_46055/1850524937.py:76: RuntimeWarning: This filename (/Users/folasewaabdulsalam/Signal_Processing/DS_Alzheimer_Project_Folasewa/preprocessed_filtered_short/sub-005_task-eyesclosed_eeg_preprocessed.fif) does not conform to MNE naming conventions. All raw files should end with raw.fif, raw_sss.fif, raw_tsss.fif, _meg.fif, _eeg.fif, _ieeg.fif, raw.fif.gz, raw_sss.fif.gz, raw_tsss.fif.gz, _meg.fif.gz, _eeg.fif.gz or _ieeg.fif.gz\n",
      "  raw_dataset_clean.save(output_file, overwrite=True)\n"
     ]
    },
    {
     "name": "stdout",
     "output_type": "stream",
     "text": [
      "Closing /Users/folasewaabdulsalam/Signal_Processing/DS_Alzheimer_Project_Folasewa/preprocessed_filtered_short/sub-005_task-eyesclosed_eeg_preprocessed.fif\n",
      "[done]\n",
      "Processing file: /Users/folasewaabdulsalam/Signal_Processing/DS_Alzheimer_Project_Folasewa/filtered_subjects_short/sub-045_task-eyesclosed_eeg.set\n",
      "Applying average re-referencing...\n",
      "EEG channel type selected for re-referencing\n",
      "Applying average reference.\n",
      "Applying a custom ('EEG',) reference.\n",
      "Applying band-pass filter 0.5Hz to 45Hz...\n",
      "Filtering raw data in 1 contiguous segment\n",
      "Setting up band-pass filter from 0.5 - 45 Hz\n",
      "\n",
      "FIR filter parameters\n",
      "---------------------\n",
      "Designing a one-pass, zero-phase, non-causal bandpass filter:\n",
      "- Windowed time-domain design (firwin) method\n",
      "- Hamming window with 0.0194 passband ripple and 53 dB stopband attenuation\n",
      "- Lower passband edge: 0.50\n",
      "- Lower transition bandwidth: 0.50 Hz (-6 dB cutoff frequency: 0.25 Hz)\n",
      "- Upper passband edge: 45.00 Hz\n",
      "- Upper transition bandwidth: 11.25 Hz (-6 dB cutoff frequency: 50.62 Hz)\n",
      "- Filter length: 3301 samples (6.602 s)\n",
      "\n"
     ]
    },
    {
     "name": "stderr",
     "output_type": "stream",
     "text": [
      "/var/folders/2r/22chk4fn06j2bd_2pbrv5vcm0000gn/T/ipykernel_46055/1850524937.py:14: RuntimeWarning: The data contains 'boundary' events, indicating data discontinuities. Be cautious of filtering and epoching around these events.\n",
      "  raw_dataset = mne.io.read_raw_eeglab(set_path, preload=True)\n",
      "[Parallel(n_jobs=1)]: Done  17 tasks      | elapsed:    0.1s\n"
     ]
    },
    {
     "name": "stdout",
     "output_type": "stream",
     "text": [
      "Checking for noise in the data...\n",
      "No significant noise detected (max std: 1.33e-05 V). Skipping ICA.\n",
      "Applying Artifact Subspace Reconstruction (ASR)...\n",
      "Finding segments below or above PTP threshold.\n",
      "Excluding bad segments...\n",
      "Saving the preprocessed file to: /Users/folasewaabdulsalam/Signal_Processing/DS_Alzheimer_Project_Folasewa/preprocessed_filtered_short/sub-045_task-eyesclosed_eeg_preprocessed.fif\n",
      "Writing /Users/folasewaabdulsalam/Signal_Processing/DS_Alzheimer_Project_Folasewa/preprocessed_filtered_short/sub-045_task-eyesclosed_eeg_preprocessed.fif\n",
      "Closing /Users/folasewaabdulsalam/Signal_Processing/DS_Alzheimer_Project_Folasewa/preprocessed_filtered_short/sub-045_task-eyesclosed_eeg_preprocessed.fif\n",
      "[done]\n",
      "Processing file: /Users/folasewaabdulsalam/Signal_Processing/DS_Alzheimer_Project_Folasewa/filtered_subjects_short/sub-041_task-eyesclosed_eeg.set\n",
      "Applying average re-referencing...\n",
      "EEG channel type selected for re-referencing\n",
      "Applying average reference.\n",
      "Applying a custom ('EEG',) reference.\n"
     ]
    },
    {
     "name": "stderr",
     "output_type": "stream",
     "text": [
      "/var/folders/2r/22chk4fn06j2bd_2pbrv5vcm0000gn/T/ipykernel_46055/1850524937.py:76: RuntimeWarning: This filename (/Users/folasewaabdulsalam/Signal_Processing/DS_Alzheimer_Project_Folasewa/preprocessed_filtered_short/sub-045_task-eyesclosed_eeg_preprocessed.fif) does not conform to MNE naming conventions. All raw files should end with raw.fif, raw_sss.fif, raw_tsss.fif, _meg.fif, _eeg.fif, _ieeg.fif, raw.fif.gz, raw_sss.fif.gz, raw_tsss.fif.gz, _meg.fif.gz, _eeg.fif.gz or _ieeg.fif.gz\n",
      "  raw_dataset_clean.save(output_file, overwrite=True)\n",
      "/var/folders/2r/22chk4fn06j2bd_2pbrv5vcm0000gn/T/ipykernel_46055/1850524937.py:14: RuntimeWarning: The data contains 'boundary' events, indicating data discontinuities. Be cautious of filtering and epoching around these events.\n",
      "  raw_dataset = mne.io.read_raw_eeglab(set_path, preload=True)\n"
     ]
    },
    {
     "name": "stdout",
     "output_type": "stream",
     "text": [
      "Applying band-pass filter 0.5Hz to 45Hz...\n",
      "Filtering raw data in 1 contiguous segment\n",
      "Setting up band-pass filter from 0.5 - 45 Hz\n",
      "\n",
      "FIR filter parameters\n",
      "---------------------\n",
      "Designing a one-pass, zero-phase, non-causal bandpass filter:\n",
      "- Windowed time-domain design (firwin) method\n",
      "- Hamming window with 0.0194 passband ripple and 53 dB stopband attenuation\n",
      "- Lower passband edge: 0.50\n",
      "- Lower transition bandwidth: 0.50 Hz (-6 dB cutoff frequency: 0.25 Hz)\n",
      "- Upper passband edge: 45.00 Hz\n",
      "- Upper transition bandwidth: 11.25 Hz (-6 dB cutoff frequency: 50.62 Hz)\n",
      "- Filter length: 3301 samples (6.602 s)\n",
      "\n",
      "Checking for noise in the data...\n",
      "No significant noise detected (max std: 9.97e-06 V). Skipping ICA.\n",
      "Applying Artifact Subspace Reconstruction (ASR)...\n",
      "Finding segments below or above PTP threshold.\n",
      "Excluding bad segments...\n",
      "Saving the preprocessed file to: /Users/folasewaabdulsalam/Signal_Processing/DS_Alzheimer_Project_Folasewa/preprocessed_filtered_short/sub-041_task-eyesclosed_eeg_preprocessed.fif\n",
      "Writing /Users/folasewaabdulsalam/Signal_Processing/DS_Alzheimer_Project_Folasewa/preprocessed_filtered_short/sub-041_task-eyesclosed_eeg_preprocessed.fif\n"
     ]
    },
    {
     "name": "stderr",
     "output_type": "stream",
     "text": [
      "[Parallel(n_jobs=1)]: Done  17 tasks      | elapsed:    0.2s\n",
      "/var/folders/2r/22chk4fn06j2bd_2pbrv5vcm0000gn/T/ipykernel_46055/1850524937.py:76: RuntimeWarning: This filename (/Users/folasewaabdulsalam/Signal_Processing/DS_Alzheimer_Project_Folasewa/preprocessed_filtered_short/sub-041_task-eyesclosed_eeg_preprocessed.fif) does not conform to MNE naming conventions. All raw files should end with raw.fif, raw_sss.fif, raw_tsss.fif, _meg.fif, _eeg.fif, _ieeg.fif, raw.fif.gz, raw_sss.fif.gz, raw_tsss.fif.gz, _meg.fif.gz, _eeg.fif.gz or _ieeg.fif.gz\n",
      "  raw_dataset_clean.save(output_file, overwrite=True)\n"
     ]
    },
    {
     "name": "stdout",
     "output_type": "stream",
     "text": [
      "Closing /Users/folasewaabdulsalam/Signal_Processing/DS_Alzheimer_Project_Folasewa/preprocessed_filtered_short/sub-041_task-eyesclosed_eeg_preprocessed.fif\n",
      "[done]\n",
      "Processing file: /Users/folasewaabdulsalam/Signal_Processing/DS_Alzheimer_Project_Folasewa/filtered_subjects_short/sub-001_task-eyesclosed_eeg.set\n",
      "Applying average re-referencing...\n",
      "EEG channel type selected for re-referencing\n",
      "Applying average reference.\n",
      "Applying a custom ('EEG',) reference.\n",
      "Applying band-pass filter 0.5Hz to 45Hz...\n",
      "Filtering raw data in 1 contiguous segment\n",
      "Setting up band-pass filter from 0.5 - 45 Hz\n",
      "\n",
      "FIR filter parameters\n",
      "---------------------\n",
      "Designing a one-pass, zero-phase, non-causal bandpass filter:\n",
      "- Windowed time-domain design (firwin) method\n",
      "- Hamming window with 0.0194 passband ripple and 53 dB stopband attenuation\n",
      "- Lower passband edge: 0.50\n",
      "- Lower transition bandwidth: 0.50 Hz (-6 dB cutoff frequency: 0.25 Hz)\n",
      "- Upper passband edge: 45.00 Hz\n",
      "- Upper transition bandwidth: 11.25 Hz (-6 dB cutoff frequency: 50.62 Hz)\n",
      "- Filter length: 3301 samples (6.602 s)\n",
      "\n",
      "Checking for noise in the data...\n",
      "No significant noise detected (max std: 9.55e-06 V). Skipping ICA.\n",
      "Applying Artifact Subspace Reconstruction (ASR)...\n",
      "Finding segments below or above PTP threshold.\n",
      "Excluding bad segments...\n",
      "Saving the preprocessed file to: /Users/folasewaabdulsalam/Signal_Processing/DS_Alzheimer_Project_Folasewa/preprocessed_filtered_short/sub-001_task-eyesclosed_eeg_preprocessed.fif\n",
      "Writing /Users/folasewaabdulsalam/Signal_Processing/DS_Alzheimer_Project_Folasewa/preprocessed_filtered_short/sub-001_task-eyesclosed_eeg_preprocessed.fif\n",
      "Closing /Users/folasewaabdulsalam/Signal_Processing/DS_Alzheimer_Project_Folasewa/preprocessed_filtered_short/sub-001_task-eyesclosed_eeg_preprocessed.fif\n"
     ]
    },
    {
     "name": "stderr",
     "output_type": "stream",
     "text": [
      "[Parallel(n_jobs=1)]: Done  17 tasks      | elapsed:    0.1s\n",
      "/var/folders/2r/22chk4fn06j2bd_2pbrv5vcm0000gn/T/ipykernel_46055/1850524937.py:76: RuntimeWarning: This filename (/Users/folasewaabdulsalam/Signal_Processing/DS_Alzheimer_Project_Folasewa/preprocessed_filtered_short/sub-001_task-eyesclosed_eeg_preprocessed.fif) does not conform to MNE naming conventions. All raw files should end with raw.fif, raw_sss.fif, raw_tsss.fif, _meg.fif, _eeg.fif, _ieeg.fif, raw.fif.gz, raw_sss.fif.gz, raw_tsss.fif.gz, _meg.fif.gz, _eeg.fif.gz or _ieeg.fif.gz\n",
      "  raw_dataset_clean.save(output_file, overwrite=True)\n"
     ]
    },
    {
     "name": "stdout",
     "output_type": "stream",
     "text": [
      "[done]\n",
      "Processing file: /Users/folasewaabdulsalam/Signal_Processing/DS_Alzheimer_Project_Folasewa/filtered_subjects_short/sub-042_task-eyesclosed_eeg.set\n",
      "Applying average re-referencing...\n",
      "EEG channel type selected for re-referencing\n",
      "Applying average reference.\n",
      "Applying a custom ('EEG',) reference.\n",
      "Applying band-pass filter 0.5Hz to 45Hz...\n",
      "Filtering raw data in 1 contiguous segment\n",
      "Setting up band-pass filter from 0.5 - 45 Hz\n",
      "\n",
      "FIR filter parameters\n",
      "---------------------\n",
      "Designing a one-pass, zero-phase, non-causal bandpass filter:\n",
      "- Windowed time-domain design (firwin) method\n",
      "- Hamming window with 0.0194 passband ripple and 53 dB stopband attenuation\n",
      "- Lower passband edge: 0.50\n",
      "- Lower transition bandwidth: 0.50 Hz (-6 dB cutoff frequency: 0.25 Hz)\n",
      "- Upper passband edge: 45.00 Hz\n",
      "- Upper transition bandwidth: 11.25 Hz (-6 dB cutoff frequency: 50.62 Hz)\n",
      "- Filter length: 3301 samples (6.602 s)\n",
      "\n"
     ]
    },
    {
     "name": "stderr",
     "output_type": "stream",
     "text": [
      "/var/folders/2r/22chk4fn06j2bd_2pbrv5vcm0000gn/T/ipykernel_46055/1850524937.py:14: RuntimeWarning: The data contains 'boundary' events, indicating data discontinuities. Be cautious of filtering and epoching around these events.\n",
      "  raw_dataset = mne.io.read_raw_eeglab(set_path, preload=True)\n"
     ]
    },
    {
     "name": "stdout",
     "output_type": "stream",
     "text": [
      "Checking for noise in the data...\n",
      "No significant noise detected (max std: 1.41e-05 V). Skipping ICA.\n",
      "Applying Artifact Subspace Reconstruction (ASR)...\n",
      "Finding segments below or above PTP threshold.\n",
      "Excluding bad segments...\n",
      "Saving the preprocessed file to: /Users/folasewaabdulsalam/Signal_Processing/DS_Alzheimer_Project_Folasewa/preprocessed_filtered_short/sub-042_task-eyesclosed_eeg_preprocessed.fif\n",
      "Writing /Users/folasewaabdulsalam/Signal_Processing/DS_Alzheimer_Project_Folasewa/preprocessed_filtered_short/sub-042_task-eyesclosed_eeg_preprocessed.fif\n"
     ]
    },
    {
     "name": "stderr",
     "output_type": "stream",
     "text": [
      "[Parallel(n_jobs=1)]: Done  17 tasks      | elapsed:    0.2s\n",
      "/var/folders/2r/22chk4fn06j2bd_2pbrv5vcm0000gn/T/ipykernel_46055/1850524937.py:76: RuntimeWarning: This filename (/Users/folasewaabdulsalam/Signal_Processing/DS_Alzheimer_Project_Folasewa/preprocessed_filtered_short/sub-042_task-eyesclosed_eeg_preprocessed.fif) does not conform to MNE naming conventions. All raw files should end with raw.fif, raw_sss.fif, raw_tsss.fif, _meg.fif, _eeg.fif, _ieeg.fif, raw.fif.gz, raw_sss.fif.gz, raw_tsss.fif.gz, _meg.fif.gz, _eeg.fif.gz or _ieeg.fif.gz\n",
      "  raw_dataset_clean.save(output_file, overwrite=True)\n"
     ]
    },
    {
     "name": "stdout",
     "output_type": "stream",
     "text": [
      "Closing /Users/folasewaabdulsalam/Signal_Processing/DS_Alzheimer_Project_Folasewa/preprocessed_filtered_short/sub-042_task-eyesclosed_eeg_preprocessed.fif\n",
      "[done]\n",
      "Processing file: /Users/folasewaabdulsalam/Signal_Processing/DS_Alzheimer_Project_Folasewa/filtered_subjects_short/sub-002_task-eyesclosed_eeg.set\n",
      "Applying average re-referencing...\n",
      "EEG channel type selected for re-referencing\n",
      "Applying average reference.\n",
      "Applying a custom ('EEG',) reference.\n",
      "Applying band-pass filter 0.5Hz to 45Hz...\n",
      "Filtering raw data in 1 contiguous segment\n",
      "Setting up band-pass filter from 0.5 - 45 Hz\n",
      "\n",
      "FIR filter parameters\n",
      "---------------------\n",
      "Designing a one-pass, zero-phase, non-causal bandpass filter:\n",
      "- Windowed time-domain design (firwin) method\n",
      "- Hamming window with 0.0194 passband ripple and 53 dB stopband attenuation\n",
      "- Lower passband edge: 0.50\n",
      "- Lower transition bandwidth: 0.50 Hz (-6 dB cutoff frequency: 0.25 Hz)\n",
      "- Upper passband edge: 45.00 Hz\n",
      "- Upper transition bandwidth: 11.25 Hz (-6 dB cutoff frequency: 50.62 Hz)\n",
      "- Filter length: 3301 samples (6.602 s)\n",
      "\n",
      "Checking for noise in the data...\n",
      "No significant noise detected (max std: 8.43e-06 V). Skipping ICA.\n",
      "Applying Artifact Subspace Reconstruction (ASR)...\n",
      "Finding segments below or above PTP threshold.\n",
      "Excluding bad segments...\n",
      "Saving the preprocessed file to: /Users/folasewaabdulsalam/Signal_Processing/DS_Alzheimer_Project_Folasewa/preprocessed_filtered_short/sub-002_task-eyesclosed_eeg_preprocessed.fif\n",
      "Writing /Users/folasewaabdulsalam/Signal_Processing/DS_Alzheimer_Project_Folasewa/preprocessed_filtered_short/sub-002_task-eyesclosed_eeg_preprocessed.fif\n"
     ]
    },
    {
     "name": "stderr",
     "output_type": "stream",
     "text": [
      "[Parallel(n_jobs=1)]: Done  17 tasks      | elapsed:    0.1s\n",
      "/var/folders/2r/22chk4fn06j2bd_2pbrv5vcm0000gn/T/ipykernel_46055/1850524937.py:76: RuntimeWarning: This filename (/Users/folasewaabdulsalam/Signal_Processing/DS_Alzheimer_Project_Folasewa/preprocessed_filtered_short/sub-002_task-eyesclosed_eeg_preprocessed.fif) does not conform to MNE naming conventions. All raw files should end with raw.fif, raw_sss.fif, raw_tsss.fif, _meg.fif, _eeg.fif, _ieeg.fif, raw.fif.gz, raw_sss.fif.gz, raw_tsss.fif.gz, _meg.fif.gz, _eeg.fif.gz or _ieeg.fif.gz\n",
      "  raw_dataset_clean.save(output_file, overwrite=True)\n"
     ]
    },
    {
     "name": "stdout",
     "output_type": "stream",
     "text": [
      "Closing /Users/folasewaabdulsalam/Signal_Processing/DS_Alzheimer_Project_Folasewa/preprocessed_filtered_short/sub-002_task-eyesclosed_eeg_preprocessed.fif\n",
      "[done]\n",
      "Processing file: /Users/folasewaabdulsalam/Signal_Processing/DS_Alzheimer_Project_Folasewa/filtered_subjects_short/sub-006_task-eyesclosed_eeg.set\n",
      "Applying average re-referencing...\n",
      "EEG channel type selected for re-referencing\n",
      "Applying average reference.\n",
      "Applying a custom ('EEG',) reference.\n",
      "Applying band-pass filter 0.5Hz to 45Hz...\n",
      "Filtering raw data in 1 contiguous segment\n",
      "Setting up band-pass filter from 0.5 - 45 Hz\n",
      "\n",
      "FIR filter parameters\n",
      "---------------------\n",
      "Designing a one-pass, zero-phase, non-causal bandpass filter:\n",
      "- Windowed time-domain design (firwin) method\n",
      "- Hamming window with 0.0194 passband ripple and 53 dB stopband attenuation\n",
      "- Lower passband edge: 0.50\n",
      "- Lower transition bandwidth: 0.50 Hz (-6 dB cutoff frequency: 0.25 Hz)\n",
      "- Upper passband edge: 45.00 Hz\n",
      "- Upper transition bandwidth: 11.25 Hz (-6 dB cutoff frequency: 50.62 Hz)\n",
      "- Filter length: 3301 samples (6.602 s)\n",
      "\n",
      "Checking for noise in the data...\n",
      "No significant noise detected (max std: 1.02e-05 V). Skipping ICA.\n",
      "Applying Artifact Subspace Reconstruction (ASR)...\n",
      "Finding segments below or above PTP threshold.\n"
     ]
    },
    {
     "name": "stderr",
     "output_type": "stream",
     "text": [
      "/var/folders/2r/22chk4fn06j2bd_2pbrv5vcm0000gn/T/ipykernel_46055/1850524937.py:14: RuntimeWarning: The data contains 'boundary' events, indicating data discontinuities. Be cautious of filtering and epoching around these events.\n",
      "  raw_dataset = mne.io.read_raw_eeglab(set_path, preload=True)\n",
      "[Parallel(n_jobs=1)]: Done  17 tasks      | elapsed:    0.1s\n"
     ]
    },
    {
     "name": "stdout",
     "output_type": "stream",
     "text": [
      "Excluding bad segments...\n",
      "Saving the preprocessed file to: /Users/folasewaabdulsalam/Signal_Processing/DS_Alzheimer_Project_Folasewa/preprocessed_filtered_short/sub-006_task-eyesclosed_eeg_preprocessed.fif\n",
      "Writing /Users/folasewaabdulsalam/Signal_Processing/DS_Alzheimer_Project_Folasewa/preprocessed_filtered_short/sub-006_task-eyesclosed_eeg_preprocessed.fif\n",
      "Closing /Users/folasewaabdulsalam/Signal_Processing/DS_Alzheimer_Project_Folasewa/preprocessed_filtered_short/sub-006_task-eyesclosed_eeg_preprocessed.fif\n",
      "[done]\n",
      "Processing file: /Users/folasewaabdulsalam/Signal_Processing/DS_Alzheimer_Project_Folasewa/filtered_subjects_short/sub-038_task-eyesclosed_eeg.set\n",
      "Applying average re-referencing...\n",
      "EEG channel type selected for re-referencing\n",
      "Applying average reference.\n",
      "Applying a custom ('EEG',) reference.\n",
      "Applying band-pass filter 0.5Hz to 45Hz...\n",
      "Filtering raw data in 1 contiguous segment\n",
      "Setting up band-pass filter from 0.5 - 45 Hz\n",
      "\n",
      "FIR filter parameters\n",
      "---------------------\n",
      "Designing a one-pass, zero-phase, non-causal bandpass filter:\n",
      "- Windowed time-domain design (firwin) method\n"
     ]
    },
    {
     "name": "stderr",
     "output_type": "stream",
     "text": [
      "/var/folders/2r/22chk4fn06j2bd_2pbrv5vcm0000gn/T/ipykernel_46055/1850524937.py:76: RuntimeWarning: This filename (/Users/folasewaabdulsalam/Signal_Processing/DS_Alzheimer_Project_Folasewa/preprocessed_filtered_short/sub-006_task-eyesclosed_eeg_preprocessed.fif) does not conform to MNE naming conventions. All raw files should end with raw.fif, raw_sss.fif, raw_tsss.fif, _meg.fif, _eeg.fif, _ieeg.fif, raw.fif.gz, raw_sss.fif.gz, raw_tsss.fif.gz, _meg.fif.gz, _eeg.fif.gz or _ieeg.fif.gz\n",
      "  raw_dataset_clean.save(output_file, overwrite=True)\n",
      "/var/folders/2r/22chk4fn06j2bd_2pbrv5vcm0000gn/T/ipykernel_46055/1850524937.py:14: RuntimeWarning: The data contains 'boundary' events, indicating data discontinuities. Be cautious of filtering and epoching around these events.\n",
      "  raw_dataset = mne.io.read_raw_eeglab(set_path, preload=True)\n"
     ]
    },
    {
     "name": "stdout",
     "output_type": "stream",
     "text": [
      "- Hamming window with 0.0194 passband ripple and 53 dB stopband attenuation\n",
      "- Lower passband edge: 0.50\n",
      "- Lower transition bandwidth: 0.50 Hz (-6 dB cutoff frequency: 0.25 Hz)\n",
      "- Upper passband edge: 45.00 Hz\n",
      "- Upper transition bandwidth: 11.25 Hz (-6 dB cutoff frequency: 50.62 Hz)\n",
      "- Filter length: 3301 samples (6.602 s)\n",
      "\n",
      "Checking for noise in the data...\n",
      "No significant noise detected (max std: 1.23e-05 V). Skipping ICA.\n",
      "Applying Artifact Subspace Reconstruction (ASR)...\n",
      "Finding segments below or above PTP threshold.\n",
      "Excluding bad segments...\n",
      "Saving the preprocessed file to: /Users/folasewaabdulsalam/Signal_Processing/DS_Alzheimer_Project_Folasewa/preprocessed_filtered_short/sub-038_task-eyesclosed_eeg_preprocessed.fif\n",
      "Writing /Users/folasewaabdulsalam/Signal_Processing/DS_Alzheimer_Project_Folasewa/preprocessed_filtered_short/sub-038_task-eyesclosed_eeg_preprocessed.fif\n"
     ]
    },
    {
     "name": "stderr",
     "output_type": "stream",
     "text": [
      "[Parallel(n_jobs=1)]: Done  17 tasks      | elapsed:    0.1s\n",
      "/var/folders/2r/22chk4fn06j2bd_2pbrv5vcm0000gn/T/ipykernel_46055/1850524937.py:76: RuntimeWarning: This filename (/Users/folasewaabdulsalam/Signal_Processing/DS_Alzheimer_Project_Folasewa/preprocessed_filtered_short/sub-038_task-eyesclosed_eeg_preprocessed.fif) does not conform to MNE naming conventions. All raw files should end with raw.fif, raw_sss.fif, raw_tsss.fif, _meg.fif, _eeg.fif, _ieeg.fif, raw.fif.gz, raw_sss.fif.gz, raw_tsss.fif.gz, _meg.fif.gz, _eeg.fif.gz or _ieeg.fif.gz\n",
      "  raw_dataset_clean.save(output_file, overwrite=True)\n"
     ]
    },
    {
     "name": "stdout",
     "output_type": "stream",
     "text": [
      "Closing /Users/folasewaabdulsalam/Signal_Processing/DS_Alzheimer_Project_Folasewa/preprocessed_filtered_short/sub-038_task-eyesclosed_eeg_preprocessed.fif\n",
      "[done]\n",
      "Processing file: /Users/folasewaabdulsalam/Signal_Processing/DS_Alzheimer_Project_Folasewa/filtered_subjects_short/sub-046_task-eyesclosed_eeg.set\n",
      "Applying average re-referencing...\n",
      "EEG channel type selected for re-referencing\n",
      "Applying average reference.\n",
      "Applying a custom ('EEG',) reference.\n",
      "Applying band-pass filter 0.5Hz to 45Hz...\n",
      "Filtering raw data in 1 contiguous segment\n",
      "Setting up band-pass filter from 0.5 - 45 Hz\n",
      "\n",
      "FIR filter parameters\n",
      "---------------------\n",
      "Designing a one-pass, zero-phase, non-causal bandpass filter:\n",
      "- Windowed time-domain design (firwin) method\n",
      "- Hamming window with 0.0194 passband ripple and 53 dB stopband attenuation\n",
      "- Lower passband edge: 0.50\n",
      "- Lower transition bandwidth: 0.50 Hz (-6 dB cutoff frequency: 0.25 Hz)\n",
      "- Upper passband edge: 45.00 Hz\n",
      "- Upper transition bandwidth: 11.25 Hz (-6 dB cutoff frequency: 50.62 Hz)\n",
      "- Filter length: 3301 samples (6.602 s)\n",
      "\n",
      "Checking for noise in the data...\n",
      "No significant noise detected (max std: 1.48e-05 V). Skipping ICA.\n",
      "Applying Artifact Subspace Reconstruction (ASR)...\n",
      "Finding segments below or above PTP threshold.\n"
     ]
    },
    {
     "name": "stderr",
     "output_type": "stream",
     "text": [
      "/var/folders/2r/22chk4fn06j2bd_2pbrv5vcm0000gn/T/ipykernel_46055/1850524937.py:14: RuntimeWarning: The data contains 'boundary' events, indicating data discontinuities. Be cautious of filtering and epoching around these events.\n",
      "  raw_dataset = mne.io.read_raw_eeglab(set_path, preload=True)\n",
      "[Parallel(n_jobs=1)]: Done  17 tasks      | elapsed:    0.1s\n"
     ]
    },
    {
     "name": "stdout",
     "output_type": "stream",
     "text": [
      "Excluding bad segments...\n",
      "Saving the preprocessed file to: /Users/folasewaabdulsalam/Signal_Processing/DS_Alzheimer_Project_Folasewa/preprocessed_filtered_short/sub-046_task-eyesclosed_eeg_preprocessed.fif\n",
      "Writing /Users/folasewaabdulsalam/Signal_Processing/DS_Alzheimer_Project_Folasewa/preprocessed_filtered_short/sub-046_task-eyesclosed_eeg_preprocessed.fif\n",
      "Closing /Users/folasewaabdulsalam/Signal_Processing/DS_Alzheimer_Project_Folasewa/preprocessed_filtered_short/sub-046_task-eyesclosed_eeg_preprocessed.fif\n",
      "[done]\n",
      "Processing file: /Users/folasewaabdulsalam/Signal_Processing/DS_Alzheimer_Project_Folasewa/filtered_subjects_short/sub-037_task-eyesclosed_eeg.set\n",
      "Applying average re-referencing...\n",
      "EEG channel type selected for re-referencing\n",
      "Applying average reference.\n",
      "Applying a custom ('EEG',) reference.\n",
      "Applying band-pass filter 0.5Hz to 45Hz...\n",
      "Filtering raw data in 1 contiguous segment\n",
      "Setting up band-pass filter from 0.5 - 45 Hz\n",
      "\n",
      "FIR filter parameters\n",
      "---------------------\n",
      "Designing a one-pass, zero-phase, non-causal bandpass filter:\n",
      "- Windowed time-domain design (firwin) method\n",
      "- Hamming window with 0.0194 passband ripple and 53 dB stopband attenuation\n",
      "- Lower passband edge: 0.50\n",
      "- Lower transition bandwidth: 0.50 Hz (-6 dB cutoff frequency: 0.25 Hz)\n",
      "- Upper passband edge: 45.00 Hz\n",
      "- Upper transition bandwidth: 11.25 Hz (-6 dB cutoff frequency: 50.62 Hz)\n",
      "- Filter length: 3301 samples (6.602 s)\n",
      "\n"
     ]
    },
    {
     "name": "stderr",
     "output_type": "stream",
     "text": [
      "/var/folders/2r/22chk4fn06j2bd_2pbrv5vcm0000gn/T/ipykernel_46055/1850524937.py:76: RuntimeWarning: This filename (/Users/folasewaabdulsalam/Signal_Processing/DS_Alzheimer_Project_Folasewa/preprocessed_filtered_short/sub-046_task-eyesclosed_eeg_preprocessed.fif) does not conform to MNE naming conventions. All raw files should end with raw.fif, raw_sss.fif, raw_tsss.fif, _meg.fif, _eeg.fif, _ieeg.fif, raw.fif.gz, raw_sss.fif.gz, raw_tsss.fif.gz, _meg.fif.gz, _eeg.fif.gz or _ieeg.fif.gz\n",
      "  raw_dataset_clean.save(output_file, overwrite=True)\n"
     ]
    },
    {
     "name": "stdout",
     "output_type": "stream",
     "text": [
      "Checking for noise in the data...\n",
      "No significant noise detected (max std: 1.28e-05 V). Skipping ICA.\n",
      "Applying Artifact Subspace Reconstruction (ASR)...\n",
      "Finding segments below or above PTP threshold.\n",
      "Excluding bad segments...\n",
      "Saving the preprocessed file to: /Users/folasewaabdulsalam/Signal_Processing/DS_Alzheimer_Project_Folasewa/preprocessed_filtered_short/sub-037_task-eyesclosed_eeg_preprocessed.fif\n",
      "Writing /Users/folasewaabdulsalam/Signal_Processing/DS_Alzheimer_Project_Folasewa/preprocessed_filtered_short/sub-037_task-eyesclosed_eeg_preprocessed.fif\n"
     ]
    },
    {
     "name": "stderr",
     "output_type": "stream",
     "text": [
      "[Parallel(n_jobs=1)]: Done  17 tasks      | elapsed:    0.2s\n",
      "/var/folders/2r/22chk4fn06j2bd_2pbrv5vcm0000gn/T/ipykernel_46055/1850524937.py:76: RuntimeWarning: This filename (/Users/folasewaabdulsalam/Signal_Processing/DS_Alzheimer_Project_Folasewa/preprocessed_filtered_short/sub-037_task-eyesclosed_eeg_preprocessed.fif) does not conform to MNE naming conventions. All raw files should end with raw.fif, raw_sss.fif, raw_tsss.fif, _meg.fif, _eeg.fif, _ieeg.fif, raw.fif.gz, raw_sss.fif.gz, raw_tsss.fif.gz, _meg.fif.gz, _eeg.fif.gz or _ieeg.fif.gz\n",
      "  raw_dataset_clean.save(output_file, overwrite=True)\n"
     ]
    },
    {
     "name": "stdout",
     "output_type": "stream",
     "text": [
      "Closing /Users/folasewaabdulsalam/Signal_Processing/DS_Alzheimer_Project_Folasewa/preprocessed_filtered_short/sub-037_task-eyesclosed_eeg_preprocessed.fif\n",
      "[done]\n",
      "Processing file: /Users/folasewaabdulsalam/Signal_Processing/DS_Alzheimer_Project_Folasewa/filtered_subjects_short/sub-009_task-eyesclosed_eeg.set\n",
      "Applying average re-referencing...\n",
      "EEG channel type selected for re-referencing\n",
      "Applying average reference.\n",
      "Applying a custom ('EEG',) reference.\n",
      "Applying band-pass filter 0.5Hz to 45Hz...\n",
      "Filtering raw data in 1 contiguous segment\n",
      "Setting up band-pass filter from 0.5 - 45 Hz\n",
      "\n",
      "FIR filter parameters\n",
      "---------------------\n",
      "Designing a one-pass, zero-phase, non-causal bandpass filter:\n",
      "- Windowed time-domain design (firwin) method\n",
      "- Hamming window with 0.0194 passband ripple and 53 dB stopband attenuation\n",
      "- Lower passband edge: 0.50\n",
      "- Lower transition bandwidth: 0.50 Hz (-6 dB cutoff frequency: 0.25 Hz)\n",
      "- Upper passband edge: 45.00 Hz\n",
      "- Upper transition bandwidth: 11.25 Hz (-6 dB cutoff frequency: 50.62 Hz)\n",
      "- Filter length: 3301 samples (6.602 s)\n",
      "\n",
      "Checking for noise in the data...\n",
      "No significant noise detected (max std: 1.13e-05 V). Skipping ICA.\n",
      "Applying Artifact Subspace Reconstruction (ASR)...\n",
      "Finding segments below or above PTP threshold.\n"
     ]
    },
    {
     "name": "stderr",
     "output_type": "stream",
     "text": [
      "/var/folders/2r/22chk4fn06j2bd_2pbrv5vcm0000gn/T/ipykernel_46055/1850524937.py:14: RuntimeWarning: The data contains 'boundary' events, indicating data discontinuities. Be cautious of filtering and epoching around these events.\n",
      "  raw_dataset = mne.io.read_raw_eeglab(set_path, preload=True)\n",
      "[Parallel(n_jobs=1)]: Done  17 tasks      | elapsed:    0.1s\n"
     ]
    },
    {
     "name": "stdout",
     "output_type": "stream",
     "text": [
      "Excluding bad segments...\n",
      "Saving the preprocessed file to: /Users/folasewaabdulsalam/Signal_Processing/DS_Alzheimer_Project_Folasewa/preprocessed_filtered_short/sub-009_task-eyesclosed_eeg_preprocessed.fif\n",
      "Writing /Users/folasewaabdulsalam/Signal_Processing/DS_Alzheimer_Project_Folasewa/preprocessed_filtered_short/sub-009_task-eyesclosed_eeg_preprocessed.fif\n",
      "Closing /Users/folasewaabdulsalam/Signal_Processing/DS_Alzheimer_Project_Folasewa/preprocessed_filtered_short/sub-009_task-eyesclosed_eeg_preprocessed.fif\n",
      "[done]\n"
     ]
    },
    {
     "name": "stderr",
     "output_type": "stream",
     "text": [
      "/var/folders/2r/22chk4fn06j2bd_2pbrv5vcm0000gn/T/ipykernel_46055/1850524937.py:76: RuntimeWarning: This filename (/Users/folasewaabdulsalam/Signal_Processing/DS_Alzheimer_Project_Folasewa/preprocessed_filtered_short/sub-009_task-eyesclosed_eeg_preprocessed.fif) does not conform to MNE naming conventions. All raw files should end with raw.fif, raw_sss.fif, raw_tsss.fif, _meg.fif, _eeg.fif, _ieeg.fif, raw.fif.gz, raw_sss.fif.gz, raw_tsss.fif.gz, _meg.fif.gz, _eeg.fif.gz or _ieeg.fif.gz\n",
      "  raw_dataset_clean.save(output_file, overwrite=True)\n"
     ]
    }
   ],
   "source": [
    "for file in set_files:\n",
    "    preprocess_file(file, filtered_output_preprocessed)\n"
   ]
  },
  {
   "cell_type": "code",
   "execution_count": null,
   "metadata": {},
   "outputs": [],
   "source": []
  }
 ],
 "metadata": {
  "kernelspec": {
   "display_name": ".venv",
   "language": "python",
   "name": "python3"
  },
  "language_info": {
   "codemirror_mode": {
    "name": "ipython",
    "version": 3
   },
   "file_extension": ".py",
   "mimetype": "text/x-python",
   "name": "python",
   "nbconvert_exporter": "python",
   "pygments_lexer": "ipython3",
   "version": "3.9.6"
  }
 },
 "nbformat": 4,
 "nbformat_minor": 2
}
