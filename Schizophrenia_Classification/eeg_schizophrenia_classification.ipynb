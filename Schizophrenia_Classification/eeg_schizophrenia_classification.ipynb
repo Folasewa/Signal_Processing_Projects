{
 "cells": [
  {
   "cell_type": "code",
   "execution_count": 9,
   "metadata": {},
   "outputs": [],
   "source": [
    "from glob import glob\n",
    "from pathlib import Path\n",
    "import os\n",
    "import mne\n",
    "import numpy as np\n",
    "import pandas as pd\n",
    "import matplotlib.pyplot as plt"
   ]
  },
  {
   "cell_type": "code",
   "execution_count": 5,
   "metadata": {},
   "outputs": [
    {
     "name": "stdout",
     "output_type": "stream",
     "text": [
      "28\n"
     ]
    }
   ],
   "source": [
    "#to access the files\n",
    "all_file_path = glob('/Users/folasewaabdulsalam/Signal_Processing/Schizophrenia_Classification/schizophrenia_dataset/*.edf')\n",
    "print(len(all_file_path))"
   ]
  },
  {
   "cell_type": "code",
   "execution_count": 6,
   "metadata": {},
   "outputs": [
    {
     "data": {
      "text/plain": [
       "'/Users/folasewaabdulsalam/Signal_Processing/Schizophrenia_Classification/schizophrenia_dataset/s01.edf'"
      ]
     },
     "execution_count": 6,
     "metadata": {},
     "output_type": "execute_result"
    }
   ],
   "source": [
    "all_file_path[0]"
   ]
  },
  {
   "cell_type": "code",
   "execution_count": 11,
   "metadata": {},
   "outputs": [
    {
     "name": "stdout",
     "output_type": "stream",
     "text": [
      "['/Users/folasewaabdulsalam/Signal_Processing/Schizophrenia_Classification/schizophrenia_dataset/s01.edf', '/Users/folasewaabdulsalam/Signal_Processing/Schizophrenia_Classification/schizophrenia_dataset/h01.edf', '/Users/folasewaabdulsalam/Signal_Processing/Schizophrenia_Classification/schizophrenia_dataset/h14.edf', '/Users/folasewaabdulsalam/Signal_Processing/Schizophrenia_Classification/schizophrenia_dataset/s14.edf', '/Users/folasewaabdulsalam/Signal_Processing/Schizophrenia_Classification/schizophrenia_dataset/s02.edf', '/Users/folasewaabdulsalam/Signal_Processing/Schizophrenia_Classification/schizophrenia_dataset/h02.edf', '/Users/folasewaabdulsalam/Signal_Processing/Schizophrenia_Classification/schizophrenia_dataset/h03.edf', '/Users/folasewaabdulsalam/Signal_Processing/Schizophrenia_Classification/schizophrenia_dataset/s03.edf', '/Users/folasewaabdulsalam/Signal_Processing/Schizophrenia_Classification/schizophrenia_dataset/s07.edf', '/Users/folasewaabdulsalam/Signal_Processing/Schizophrenia_Classification/schizophrenia_dataset/s13.edf', '/Users/folasewaabdulsalam/Signal_Processing/Schizophrenia_Classification/schizophrenia_dataset/h13.edf', '/Users/folasewaabdulsalam/Signal_Processing/Schizophrenia_Classification/schizophrenia_dataset/h07.edf', '/Users/folasewaabdulsalam/Signal_Processing/Schizophrenia_Classification/schizophrenia_dataset/h06.edf', '/Users/folasewaabdulsalam/Signal_Processing/Schizophrenia_Classification/schizophrenia_dataset/h12.edf', '/Users/folasewaabdulsalam/Signal_Processing/Schizophrenia_Classification/schizophrenia_dataset/s12.edf', '/Users/folasewaabdulsalam/Signal_Processing/Schizophrenia_Classification/schizophrenia_dataset/s06.edf', '/Users/folasewaabdulsalam/Signal_Processing/Schizophrenia_Classification/schizophrenia_dataset/s10.edf', '/Users/folasewaabdulsalam/Signal_Processing/Schizophrenia_Classification/schizophrenia_dataset/s04.edf', '/Users/folasewaabdulsalam/Signal_Processing/Schizophrenia_Classification/schizophrenia_dataset/h04.edf', '/Users/folasewaabdulsalam/Signal_Processing/Schizophrenia_Classification/schizophrenia_dataset/h10.edf', '/Users/folasewaabdulsalam/Signal_Processing/Schizophrenia_Classification/schizophrenia_dataset/h11.edf', '/Users/folasewaabdulsalam/Signal_Processing/Schizophrenia_Classification/schizophrenia_dataset/h05.edf', '/Users/folasewaabdulsalam/Signal_Processing/Schizophrenia_Classification/schizophrenia_dataset/s05.edf', '/Users/folasewaabdulsalam/Signal_Processing/Schizophrenia_Classification/schizophrenia_dataset/s11.edf', '/Users/folasewaabdulsalam/Signal_Processing/Schizophrenia_Classification/schizophrenia_dataset/s08.edf', '/Users/folasewaabdulsalam/Signal_Processing/Schizophrenia_Classification/schizophrenia_dataset/h08.edf', '/Users/folasewaabdulsalam/Signal_Processing/Schizophrenia_Classification/schizophrenia_dataset/h09.edf', '/Users/folasewaabdulsalam/Signal_Processing/Schizophrenia_Classification/schizophrenia_dataset/s09.edf']\n"
     ]
    }
   ],
   "source": [
    "print(all_file_path)\n"
   ]
  },
  {
   "cell_type": "code",
   "execution_count": 13,
   "metadata": {},
   "outputs": [
    {
     "name": "stdout",
     "output_type": "stream",
     "text": [
      "14 14\n"
     ]
    }
   ],
   "source": [
    "\n",
    "\n",
    "# Splitting the data file path into healthy and schizophrenia patients\n",
    "\n",
    "healthy_file_path = [i for i in all_file_path if 'h' in i.split('/')[-1]]  # Extract filename using '/'\n",
    "schizo_patient_file_path = [i for i in all_file_path if 's' in i.split('/')[-1]]  # Extract filename using '/'\n",
    "\n",
    "print(len(healthy_file_path), len(schizo_patient_file_path))\n"
   ]
  },
  {
   "cell_type": "code",
   "execution_count": null,
   "metadata": {},
   "outputs": [],
   "source": []
  }
 ],
 "metadata": {
  "kernelspec": {
   "display_name": ".venv",
   "language": "python",
   "name": "python3"
  },
  "language_info": {
   "codemirror_mode": {
    "name": "ipython",
    "version": 3
   },
   "file_extension": ".py",
   "mimetype": "text/x-python",
   "name": "python",
   "nbconvert_exporter": "python",
   "pygments_lexer": "ipython3",
   "version": "3.9.6"
  }
 },
 "nbformat": 4,
 "nbformat_minor": 2
}
